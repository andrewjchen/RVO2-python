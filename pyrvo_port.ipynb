{
 "metadata": {
  "name": "",
  "signature": "sha256:bc1d4f1123738c28eec2031c77ab5adefd54818cf0e6004d7588a1598fa01ab8"
 },
 "nbformat": 3,
 "nbformat_minor": 0,
 "worksheets": [
  {
   "cells": [
    {
     "cell_type": "markdown",
     "metadata": {},
     "source": [
      "<img src=\"../images/biomimetics-thin.jpg\">"
     ]
    },
    {
     "cell_type": "markdown",
     "metadata": {},
     "source": [
      "back to [index](index.ipynb)"
     ]
    },
    {
     "cell_type": "heading",
     "level": 1,
     "metadata": {},
     "source": [
      "pyrvo_port"
     ]
    },
    {
     "cell_type": "markdown",
     "metadata": {},
     "source": [
      "2014-07-18"
     ]
    },
    {
     "cell_type": "markdown",
     "metadata": {},
     "source": [
      "* https://github.com/snape/RVO2.git"
     ]
    },
    {
     "cell_type": "code",
     "collapsed": false,
     "input": [
      "!git clone https://github.com/snape/RVO2.git"
     ],
     "language": "python",
     "metadata": {},
     "outputs": [
      {
       "output_type": "stream",
       "stream": "stdout",
       "text": [
        "Cloning into 'RVO2'...\r\n"
       ]
      },
      {
       "output_type": "stream",
       "stream": "stdout",
       "text": [
        "WARNING: gnome-keyring:: couldn't connect to: /tmp/keyring-XJv9CG/pkcs11: No such file or directory\r\n"
       ]
      },
      {
       "output_type": "stream",
       "stream": "stdout",
       "text": [
        "remote: Reusing existing pack: 34, done.\u001b[K\r\n"
       ]
      },
      {
       "output_type": "stream",
       "stream": "stdout",
       "text": [
        "Unpacking objects:   2% (1/34)   \r",
        "Unpacking objects:   5% (2/34)   \r",
        "Unpacking objects:   8% (3/34)   \r",
        "Unpacking objects:  11% (4/34)   \r",
        "Unpacking objects:  14% (5/34)   \r",
        "Unpacking objects:  17% (6/34)   \r",
        "Unpacking objects:  20% (7/34)   \r",
        "Unpacking objects:  23% (8/34)   \r",
        "Unpacking objects:  26% (9/34)   \r",
        "Unpacking objects:  29% (10/34)   \r",
        "Unpacking objects:  32% (11/34)   \r",
        "Unpacking objects:  35% (12/34)   \r",
        "Unpacking objects:  38% (13/34)   \r",
        "Unpacking objects:  41% (14/34)   \r",
        "Unpacking objects:  44% (15/34)   \r",
        "Unpacking objects:  47% (16/34)   \r",
        "Unpacking objects:  50% (17/34)   \r"
       ]
      },
      {
       "output_type": "stream",
       "stream": "stdout",
       "text": [
        "Unpacking objects:  52% (18/34)   \r",
        "Unpacking objects:  55% (19/34)   \r",
        "remote: Total 34 (delta 0), reused 0 (delta 0)\u001b[K\r\n"
       ]
      },
      {
       "output_type": "stream",
       "stream": "stdout",
       "text": [
        "Unpacking objects:  58% (20/34)   \r",
        "Unpacking objects:  61% (21/34)   \r",
        "Unpacking objects:  64% (22/34)   \r",
        "Unpacking objects:  67% (23/34)   \r",
        "Unpacking objects:  70% (24/34)   \r",
        "Unpacking objects:  73% (25/34)   \r",
        "Unpacking objects:  76% (26/34)   \r",
        "Unpacking objects:  79% (27/34)   \r",
        "Unpacking objects:  82% (28/34)   \r",
        "Unpacking objects:  85% (29/34)   \r",
        "Unpacking objects:  88% (30/34)   \r"
       ]
      },
      {
       "output_type": "stream",
       "stream": "stdout",
       "text": [
        "Unpacking objects:  91% (31/34)   \r",
        "Unpacking objects:  94% (32/34)   \r",
        "Unpacking objects:  97% (33/34)   \r",
        "Unpacking objects: 100% (34/34)   \r",
        "Unpacking objects: 100% (34/34), done.\r\n"
       ]
      }
     ],
     "prompt_number": 1
    },
    {
     "cell_type": "code",
     "collapsed": false,
     "input": [
      "!rm -r build\n",
      "!rm pyrvo2.so"
     ],
     "language": "python",
     "metadata": {},
     "outputs": [],
     "prompt_number": 1
    },
    {
     "cell_type": "code",
     "collapsed": false,
     "input": [
      "%%bash\n",
      "CC=/usr/bin/clang CXX=/usr/bin/clang++ python setup.py build"
     ],
     "language": "python",
     "metadata": {},
     "outputs": [
      {
       "output_type": "stream",
       "stream": "stdout",
       "text": [
        "running build\n",
        "running build_ext\n",
        "building 'pyrvo2' extension\n",
        "creating build\n",
        "creating build/temp.linux-x86_64-2.7\n",
        "creating build/temp.linux-x86_64-2.7/src\n",
        "/usr/bin/clang -fno-strict-aliasing -DNDEBUG -g -fwrapv -O2 -Wall -Wstrict-prototypes -fPIC -I/usr/include/python2.7 -c src/KdTree.cpp -o build/temp.linux-x86_64-2.7/src/KdTree.o\n",
        "/usr/bin/clang -fno-strict-aliasing -DNDEBUG -g -fwrapv -O2 -Wall -Wstrict-prototypes -fPIC -I/usr/include/python2.7 -c src/RVOSimulator.cpp -o build/temp.linux-x86_64-2.7/src/RVOSimulator.o\n",
        "/usr/bin/clang -fno-strict-aliasing -DNDEBUG -g -fwrapv -O2 -Wall -Wstrict-prototypes -fPIC -I/usr/include/python2.7 -c src/Obstacle.cpp -o build/temp.linux-x86_64-2.7/src/Obstacle.o\n",
        "/usr/bin/clang -fno-strict-aliasing -DNDEBUG -g -fwrapv -O2 -Wall -Wstrict-prototypes -fPIC -I/usr/include/python2.7 -c src/Agent.cpp -o build/temp.linux-x86_64-2.7/src/Agent.o\n",
        "/usr/bin/clang -fno-strict-aliasing -DNDEBUG -g -fwrapv -O2 -Wall -Wstrict-prototypes -fPIC -I/usr/include/python2.7 -c src/pyrvo2_module.cpp -o build/temp.linux-x86_64-2.7/src/pyrvo2_module.o\n",
        "creating build/lib.linux-x86_64-2.7\n",
        "/usr/bin/clang++ -pthread -shared -Wl,-O1 -Wl,-Bsymbolic-functions -Wl,-Bsymbolic-functions -Wl,-z,relro build/temp.linux-x86_64-2.7/src/KdTree.o build/temp.linux-x86_64-2.7/src/RVOSimulator.o build/temp.linux-x86_64-2.7/src/Obstacle.o build/temp.linux-x86_64-2.7/src/Agent.o build/temp.linux-x86_64-2.7/src/pyrvo2_module.o -lboost_python -o build/lib.linux-x86_64-2.7/pyrvo2.so\n"
       ]
      }
     ],
     "prompt_number": 2
    },
    {
     "cell_type": "code",
     "collapsed": false,
     "input": [
      "cp build/lib.linux-x86_64-2.7/pyrvo2.so ."
     ],
     "language": "python",
     "metadata": {},
     "outputs": [],
     "prompt_number": 3
    },
    {
     "cell_type": "code",
     "collapsed": false,
     "input": [
      "import pyrvo2"
     ],
     "language": "python",
     "metadata": {},
     "outputs": [],
     "prompt_number": 6
    },
    {
     "cell_type": "code",
     "collapsed": false,
     "input": [
      "v = pyrvo2.Vector2(3,4)"
     ],
     "language": "python",
     "metadata": {},
     "outputs": [],
     "prompt_number": 7
    },
    {
     "cell_type": "code",
     "collapsed": false,
     "input": [
      "v.x()"
     ],
     "language": "python",
     "metadata": {},
     "outputs": [
      {
       "metadata": {},
       "output_type": "pyout",
       "prompt_number": 8,
       "text": [
        "3.0"
       ]
      }
     ],
     "prompt_number": 8
    },
    {
     "cell_type": "code",
     "collapsed": false,
     "input": [
      "v.y()"
     ],
     "language": "python",
     "metadata": {},
     "outputs": [
      {
       "metadata": {},
       "output_type": "pyout",
       "prompt_number": 9,
       "text": [
        "4.0"
       ]
      }
     ],
     "prompt_number": 9
    },
    {
     "cell_type": "code",
     "collapsed": false,
     "input": [
      "sim=pyrvo2.RVOSimulator(1,1,1,1,1,1,1,v)"
     ],
     "language": "python",
     "metadata": {},
     "outputs": [],
     "prompt_number": 8
    },
    {
     "cell_type": "code",
     "collapsed": false,
     "input": [
      "sim=pyrvo2.RVOSimulator()"
     ],
     "language": "python",
     "metadata": {},
     "outputs": [],
     "prompt_number": 6
    },
    {
     "cell_type": "code",
     "collapsed": false,
     "input": [
      "sim"
     ],
     "language": "python",
     "metadata": {},
     "outputs": [
      {
       "metadata": {},
       "output_type": "pyout",
       "prompt_number": 9,
       "text": [
        "<pyrvo2.RVOSimulator at 0x1c38b50>"
       ]
      }
     ],
     "prompt_number": 9
    },
    {
     "cell_type": "code",
     "collapsed": false,
     "input": [
      "pyrvo2.RVOSimulator?"
     ],
     "language": "python",
     "metadata": {},
     "outputs": [],
     "prompt_number": 11
    },
    {
     "cell_type": "code",
     "collapsed": false,
     "input": [],
     "language": "python",
     "metadata": {},
     "outputs": []
    },
    {
     "cell_type": "code",
     "collapsed": false,
     "input": [
      "sim=pyrvo2.RVOSimulator()"
     ],
     "language": "python",
     "metadata": {},
     "outputs": [],
     "prompt_number": 10
    },
    {
     "cell_type": "code",
     "collapsed": false,
     "input": [
      "sim.setTimeStep(.25)"
     ],
     "language": "python",
     "metadata": {},
     "outputs": [],
     "prompt_number": 11
    },
    {
     "cell_type": "code",
     "collapsed": false,
     "input": [
      "sim.setAgentDefaults(15.,long(10),10.,10.,1.5,2., pyrvo2.Vector2(0,0))"
     ],
     "language": "python",
     "metadata": {},
     "outputs": [],
     "prompt_number": 18
    },
    {
     "cell_type": "code",
     "collapsed": false,
     "input": [
      "import sys, math"
     ],
     "language": "python",
     "metadata": {},
     "outputs": [],
     "prompt_number": 19
    },
    {
     "cell_type": "code",
     "collapsed": false,
     "input": [
      "goals=[]\n",
      "for i in range(250):\n",
      "    x=math.cos(.004*i*math.pi*2) * 200.0\n",
      "    y=math.sin(.004*i*math.pi*2) * 200.0\n",
      "    pos = pyrvo2.Vector2(x,y)\n",
      "    negpos=pyrvo2.Vector2(-x,-y)\n",
      "    goals.append(negpos)\n",
      "    sim.addAgent0(pos)"
     ],
     "language": "python",
     "metadata": {},
     "outputs": [],
     "prompt_number": 38
    },
    {
     "cell_type": "code",
     "collapsed": false,
     "input": [
      "sim.getNumAgents()"
     ],
     "language": "python",
     "metadata": {},
     "outputs": [
      {
       "metadata": {},
       "output_type": "pyout",
       "prompt_number": 40,
       "text": [
        "250"
       ]
      }
     ],
     "prompt_number": 40
    },
    {
     "cell_type": "code",
     "collapsed": false,
     "input": [
      "import matplotlib.pyplot as plt\n",
      "import matplotlib.animation as animation\n",
      "import numpy as np"
     ],
     "language": "python",
     "metadata": {},
     "outputs": [],
     "prompt_number": 23
    },
    {
     "cell_type": "code",
     "collapsed": false,
     "input": [
      "%pylab inline"
     ],
     "language": "python",
     "metadata": {},
     "outputs": [
      {
       "output_type": "stream",
       "stream": "stdout",
       "text": [
        "Populating the interactive namespace from numpy and matplotlib\n"
       ]
      }
     ],
     "prompt_number": 24
    },
    {
     "cell_type": "code",
     "collapsed": false,
     "input": [
      "data=np.ndarray((2,sim.getNumAgents()))\n",
      "for i in range(sim.getNumAgents()):\n",
      "    pos=sim.getAgentPosition(i)\n",
      "#     print i, pos.x, pos.y\n",
      "    data[0][i]=pos.x()\n",
      "    data[1][i]=pos.y()\n",
      "plt.scatter(x=data[0], y=data[1], c=range(sim.getNumAgents()), linewidths=0)"
     ],
     "language": "python",
     "metadata": {},
     "outputs": [
      {
       "metadata": {},
       "output_type": "pyout",
       "prompt_number": 114,
       "text": [
        "<matplotlib.collections.PathCollection at 0x6154dd0>"
       ]
      },
      {
       "metadata": {},
       "output_type": "display_data",
       "png": "[encoded data removed]",
       "text": [
        "<matplotlib.figure.Figure at 0x5f17d10>"
       ]
      }
     ],
     "prompt_number": 114
    },
    {
     "cell_type": "code",
     "collapsed": false,
     "input": [
      "import math"
     ],
     "language": "python",
     "metadata": {},
     "outputs": [],
     "prompt_number": 42
    },
    {
     "cell_type": "code",
     "collapsed": false,
     "input": [
      "sim.setAgentPrefVelocity?"
     ],
     "language": "python",
     "metadata": {},
     "outputs": [],
     "prompt_number": 43
    },
    {
     "cell_type": "code",
     "collapsed": false,
     "input": [
      "for j in range(10):\n",
      "    for i in range(sim.getNumAgents()):\n",
      "        ap=sim.getAgentPosition(i)\n",
      "        goalv=pyrvo2.Vector2(goals[i].x() - ap.x(), goals[i].y() - ap.y())\n",
      "        goalv_abs=goalv.x()*goalv.x() + goalv.y() + goalv.y()\n",
      "        if goalv_abs > 1.0:\n",
      "            goalv_abs_sq=math.sqrt(goalv_abs)\n",
      "            goalv= pyrvo2.Vector2(goalv.x()/goalv_abs_sq, goalv.y()/goalv_abs_sq)\n",
      "        sim.setAgentPrefVelocity(i, goalv)\n",
      "    sim.doStep()\n",
      "data=np.ndarray((2,sim.getNumAgents()))\n",
      "for i in range(sim.getNumAgents()):\n",
      "    pos=sim.getAgentPosition(i)\n",
      "#     print i, pos.x, pos.y\n",
      "    data[0][i]=pos.x()\n",
      "    data[1][i]=pos.y()\n",
      "plt.scatter(x=data[0], y=data[1], c=range(sim.getNumAgents()), linewidths=0)"
     ],
     "language": "python",
     "metadata": {},
     "outputs": [
      {
       "metadata": {},
       "output_type": "pyout",
       "prompt_number": 288,
       "text": [
        "<matplotlib.collections.PathCollection at 0x1b7aa350>"
       ]
      },
      {
       "metadata": {},
       "output_type": "display_data",
       "png": "[encoded data removed]",
       "text": [
        "<matplotlib.figure.Figure at 0x1b2b98d0>"
       ]
      }
     ],
     "prompt_number": 288
    },
    {
     "cell_type": "code",
     "collapsed": false,
     "input": [
      "sim.doStep()"
     ],
     "language": "python",
     "metadata": {},
     "outputs": [],
     "prompt_number": 58
    },
    {
     "cell_type": "code",
     "collapsed": false,
     "input": [],
     "language": "python",
     "metadata": {},
     "outputs": []
    }
   ],
   "metadata": {}
  }
 ]
}